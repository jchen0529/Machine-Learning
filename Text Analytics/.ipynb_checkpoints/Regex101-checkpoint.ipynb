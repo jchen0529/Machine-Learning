{
 "cells": [
  {
   "cell_type": "markdown",
   "metadata": {},
   "source": [
    "## Regex 101\n",
    "\n",
    "Basic examples of regex and how to define a pattern and search for it in a text.\n",
    "\n",
    "**Outline**\n",
    "\n",
    "* [Define pattern and search](#search)\n",
    "    + re.search, re.match, re.findall\n",
    "* [Repetition in Regex patterns](#rep)\n",
    "* [Matching digits, words, and set boundaries](#more pat)\n",
    "* [References](#ref)"
   ]
  },
  {
   "cell_type": "code",
   "execution_count": 3,
   "metadata": {
    "collapsed": true
   },
   "outputs": [],
   "source": [
    "import re"
   ]
  },
  {
   "cell_type": "markdown",
   "metadata": {},
   "source": [
    "## <a id=\"search\">Define pattern and search</a>\n",
    "\n",
    "* **re.search(pattern, string, flags=0)** method takes a regular expression pattern and a string and searches for that pattern within the string. If the search is successful, search() returns a match object or None otherwise. Option flags are used to control various aspects of matching. \n",
    "    + We use group(num) or groups() function of match object to get matched expression.\n",
    "    + group(num=0) returns entire match"
   ]
  },
  {
   "cell_type": "code",
   "execution_count": 4,
   "metadata": {},
   "outputs": [
    {
     "name": "stdout",
     "output_type": "stream",
     "text": [
      "Found cookie\n"
     ]
    }
   ],
   "source": [
    "input_string = 'The cookie is very good!!'\n",
    "match = re.search(r'cookie', input_string)\n",
    "# If-statement after search() tests if it succeeded\n",
    "if match:\n",
    "    print ('Found', match.group()) ## 'found cookie'\n",
    "else:\n",
    "    print ('Did not find')"
   ]
  },
  {
   "cell_type": "code",
   "execution_count": 3,
   "metadata": {},
   "outputs": [
    {
     "name": "stdout",
     "output_type": "stream",
     "text": [
      "Found cookie\n",
      "Found coo\n",
      "Found ie\n"
     ]
    }
   ],
   "source": [
    "input_string = 'The cookie is very good!!'\n",
    "match = re.search(r'(coo)k(ie)', input_string)\n",
    "# If-statement after search() tests if it succeeded\n",
    "if match:\n",
    "    print ('Found', match.group()) ## 'found cookie'\n",
    "    print ('Found', match.group(1)) ## 'found coo'\n",
    "    print ('Found', match.group(2)) ## 'found ie'\n",
    "else:\n",
    "    print ('Did not find')"
   ]
  },
  {
   "cell_type": "markdown",
   "metadata": {},
   "source": [
    "* **re.match(pattern, string)** checks for a match only at the beginning of the string, while search checks for a match anywhere in the string\n",
    "    + a|b -- Matches either a or b."
   ]
  },
  {
   "cell_type": "code",
   "execution_count": 9,
   "metadata": {},
   "outputs": [
    {
     "name": "stdout",
     "output_type": "stream",
     "text": [
      "Did not find\n"
     ]
    }
   ],
   "source": [
    "input_string = 'The cookie is very good'\n",
    "match = re.match(r'cookie', input_string)\n",
    "# If-statement after match() tests if it succeeded\n",
    "if match:\n",
    "    print ('Found', match.group()) ## 'cookie'\n",
    "else:\n",
    "    print ('Did not find')"
   ]
  },
  {
   "cell_type": "code",
   "execution_count": 6,
   "metadata": {},
   "outputs": [
    {
     "name": "stdout",
     "output_type": "stream",
     "text": [
      "Found cookie\n"
     ]
    }
   ],
   "source": [
    "input_string = 'cookie is good'\n",
    "match = re.match(r'cookie', input_string)\n",
    "# If-statement after match() tests if it succeeded\n",
    "if match:\n",
    "    print ('Found', match.group())\n",
    "else:\n",
    "    print ('Did not find')"
   ]
  },
  {
   "cell_type": "markdown",
   "metadata": {},
   "source": [
    "* **re.findall(pattern, string)** finds a list of matches, while search checks for one match"
   ]
  },
  {
   "cell_type": "code",
   "execution_count": 6,
   "metadata": {},
   "outputs": [
    {
     "name": "stdout",
     "output_type": "stream",
     "text": [
      "Found Cookies\n",
      "Found cookie\n"
     ]
    }
   ],
   "source": [
    "input_string = 'Sam: Cookies are here! Julie: The cookie is very good!!'\n",
    "matches = re.findall(r'cookie|Cookies', input_string)\n",
    "# If-statement after matches() tests if it succeeded\n",
    "if matches:\n",
    "    for match in matches:\n",
    "        print ('Found', match) ## 'found Cookies and cookie'\n",
    "else:\n",
    "    print ('Did not find')"
   ]
  },
  {
   "cell_type": "markdown",
   "metadata": {},
   "source": [
    "## <a id=\"rep\">Repetition in Regex patterns</a>"
   ]
  },
  {
   "cell_type": "raw",
   "metadata": {},
   "source": [
    "+ -- 1 or more occurrences of the pattern to its left, e.g. 'i+' = one or more i's\n",
    "* -- 0 or more occurrences of the pattern to its left\n",
    "? -- match 0 or 1 occurrences of the pattern to its left\n",
    "{n} -- repeat exact n times\n",
    "{n,} -- repeat at least n times\n",
    "{n, m} -- repeat [n-m] times"
   ]
  },
  {
   "cell_type": "code",
   "execution_count": 7,
   "metadata": {},
   "outputs": [
    {
     "name": "stdout",
     "output_type": "stream",
     "text": [
      "Found Cookies\n",
      "Found cookie\n",
      "Found Cookie\n",
      "Found Cookie\n"
     ]
    }
   ],
   "source": [
    "input_string = 'Sam: Cookies are here! Julie: The cookie is very good!! Cookie Cookie'\n",
    "matches = re.findall(r'cookie|Cookies?', input_string)\n",
    "# If-statement after matches() tests if it succeeded\n",
    "if matches:\n",
    "    for match in matches:\n",
    "        print ('Found', match) ## 'found Cookies and cookie and Cookie and Cookie'\n",
    "else:\n",
    "    print ('Did not find')"
   ]
  },
  {
   "cell_type": "code",
   "execution_count": 8,
   "metadata": {},
   "outputs": [
    {
     "name": "stdout",
     "output_type": "stream",
     "text": [
      "Found color\n",
      "Found colour\n"
     ]
    }
   ],
   "source": [
    "input_string = 'The color is red. The other colour is green.'\n",
    "matches = re.findall(r'colou?r', input_string)\n",
    "# If-statement after matches() tests if it succeeded\n",
    "if matches:\n",
    "    for match in matches:\n",
    "        print ('Found', match) ## 'found color and colour\n",
    "else:\n",
    "    print ('Did not find')"
   ]
  },
  {
   "cell_type": "code",
   "execution_count": 9,
   "metadata": {},
   "outputs": [
    {
     "name": "stdout",
     "output_type": "stream",
     "text": [
      "Found Cookies\n",
      "Found cookie\n",
      "Found Cookie\n",
      "Found Cooookie\n"
     ]
    }
   ],
   "source": [
    "input_string = 'Sam: Cookies are here! Julie: The cookie is very good!! Cookie Cooookie'\n",
    "matches = re.findall(r'co+kie|Co+kies?', input_string)\n",
    "# If-statement after matches() tests if it succeeded\n",
    "if matches:\n",
    "    for match in matches:\n",
    "        print ('Found', match) ## 'found Cookies and cookie and Cookie and Cooookie'\n",
    "else:\n",
    "    print ('Did not find')"
   ]
  },
  {
   "cell_type": "markdown",
   "metadata": {},
   "source": [
    "Square bracket []\n",
    "Square brackets can be used to indicate a set of chars, so [abc] matches 'a' or 'b' or 'c'."
   ]
  },
  {
   "cell_type": "code",
   "execution_count": 10,
   "metadata": {},
   "outputs": [
    {
     "name": "stdout",
     "output_type": "stream",
     "text": [
      "Found Cookies\n",
      "Found cookie\n",
      "Found Cookie\n",
      "Found Coookie\n"
     ]
    }
   ],
   "source": [
    "input_string = 'Sam: Cookies are here! Julie: The cookie is very good!! Cookie Coookie'\n",
    "matches = re.findall(r'[cC]o+kies?', input_string)\n",
    "# If-statement after matches() tests if it succeeded\n",
    "if matches:\n",
    "    for match in matches:\n",
    "        print ('Found', match) ## 'found Cookies and cookie and Cookie and Coookie'\n",
    "else:\n",
    "    print ('Did not find')"
   ]
  },
  {
   "cell_type": "code",
   "execution_count": 11,
   "metadata": {},
   "outputs": [
    {
     "name": "stdout",
     "output_type": "stream",
     "text": [
      "Found aaa\n",
      "Found \n"
     ]
    }
   ],
   "source": [
    "input_string = 'aaa'\n",
    "matches = re.findall(r'a*', input_string)\n",
    "# If-statement after matches() tests if it succeeded\n",
    "if matches:\n",
    "    for match in matches:\n",
    "        print ('Found', match) ## 'found all words'\n",
    "else:\n",
    "    print ('Did not find')"
   ]
  },
  {
   "cell_type": "code",
   "execution_count": 12,
   "metadata": {},
   "outputs": [
    {
     "name": "stdout",
     "output_type": "stream",
     "text": [
      "Found aaa\n"
     ]
    }
   ],
   "source": [
    "input_string = 'aaa'\n",
    "matches = re.findall(r'a+', input_string)\n",
    "# If-statement after matches() tests if it succeeded\n",
    "if matches:\n",
    "    for match in matches:\n",
    "        print ('Found', match) ## 'found all words'\n",
    "else:\n",
    "    print ('Did not find')"
   ]
  },
  {
   "cell_type": "raw",
   "metadata": {},
   "source": [
    "a, X, 9, < -- ordinary characters just match themselves exactly.  \n",
    ". (a period) -- matches any single character except newline '\\n'"
   ]
  },
  {
   "cell_type": "code",
   "execution_count": 13,
   "metadata": {},
   "outputs": [
    {
     "name": "stdout",
     "output_type": "stream",
     "text": [
      "Found Sam\n",
      "Found Cookies\n",
      "Found are\n",
      "Found here\n",
      "Found Julie\n",
      "Found The\n",
      "Found cookie\n",
      "Found is\n",
      "Found very\n",
      "Found good\n",
      "Found Cookie\n",
      "Found Coookie\n"
     ]
    }
   ],
   "source": [
    "input_string = 'Sam: Cookies are here! Julie: The cookie is very good!! Cookie Coookie'\n",
    "matches = re.findall(r'[a-zA-Z]+', input_string)\n",
    "# If-statement after matches() tests if it succeeded\n",
    "if matches:\n",
    "    for match in matches:\n",
    "        print ('Found', match) ## 'found all words'\n",
    "else:\n",
    "    print ('Did not find')"
   ]
  },
  {
   "cell_type": "code",
   "execution_count": 14,
   "metadata": {},
   "outputs": [
    {
     "name": "stdout",
     "output_type": "stream",
     "text": [
      "Found 1\n",
      "Found 2\n",
      "Found 3\n",
      "Found 4\n",
      "Found 8\n",
      "Found 9\n",
      "Found 7\n",
      "Found 6\n"
     ]
    }
   ],
   "source": [
    "input_string = '12348976'\n",
    "matches = re.findall(r'[0-9]', input_string)\n",
    "# If-statement after matches() tests if it succeeded\n",
    "if matches:\n",
    "    for match in matches:\n",
    "        print ('Found', match) ## 'found all words'\n",
    "else:\n",
    "    print ('Did not find')"
   ]
  },
  {
   "cell_type": "code",
   "execution_count": 15,
   "metadata": {},
   "outputs": [
    {
     "name": "stdout",
     "output_type": "stream",
     "text": [
      "Found h\n",
      "Found e\n",
      "Found  \n",
      "Found d\n",
      "Found o\n",
      "Found g\n",
      "Found  \n",
      "Found i\n",
      "Found s\n",
      "Found  \n",
      "Found c\n",
      "Found u\n",
      "Found t\n",
      "Found e\n",
      "Found .\n"
     ]
    }
   ],
   "source": [
    "input_string = 'The dog is cute.'\n",
    "matches = re.findall(r'[^A-Z]', input_string)\n",
    "# If-statement after matches() tests if it succeeded\n",
    "if matches:\n",
    "    for match in matches:\n",
    "        print ('Found', match) ## 'found all words'\n",
    "else:\n",
    "    print ('Did not find')"
   ]
  },
  {
   "cell_type": "code",
   "execution_count": 16,
   "metadata": {},
   "outputs": [
    {
     "name": "stdout",
     "output_type": "stream",
     "text": [
      "Found Sam\n",
      "Found 100\n",
      "Found cookies\n",
      "Found are\n",
      "Found here\n",
      "Found Julie\n",
      "Found The\n",
      "Found cookie\n",
      "Found is\n",
      "Found very\n",
      "Found good\n",
      "Found Cookie\n",
      "Found Coookie\n"
     ]
    }
   ],
   "source": [
    "input_string = 'Sam: 100 cookies are here! Julie: The cookie is very good!! Cookie Coookie'\n",
    "matches = re.findall(r'[0-9a-zA-Z]+', input_string)\n",
    "# If-statement after matches() tests if it succeeded\n",
    "if matches:\n",
    "    for match in matches:\n",
    "        print ('Found', match) ## 'found all words and digits'\n",
    "else:\n",
    "    print ('Did not find')"
   ]
  },
  {
   "cell_type": "code",
   "execution_count": 17,
   "metadata": {},
   "outputs": [
    {
     "name": "stdout",
     "output_type": "stream",
     "text": [
      "Did not find\n"
     ]
    }
   ],
   "source": [
    "input_string = 'begign'\n",
    "matches = re.findall(r'beg.n', input_string)\n",
    "# If-statement after matches() tests if it succeeded\n",
    "if matches:\n",
    "    for match in matches:\n",
    "        print ('Found', match) ## 'found all words'\n",
    "else:\n",
    "    print ('Did not find')"
   ]
  },
  {
   "cell_type": "code",
   "execution_count": 18,
   "metadata": {},
   "outputs": [
    {
     "name": "stdout",
     "output_type": "stream",
     "text": [
      "Found Sam: 100 cookies are here! Julie: The cookie is very good!! Cookie Coookie\n"
     ]
    }
   ],
   "source": [
    "input_string = 'Sam: 100 cookies are here! Julie: The cookie is very good!! Cookie Coookie'\n",
    "matches = re.findall(r'.+', input_string)\n",
    "# If-statement after matches() tests if it succeeded\n",
    "if matches:\n",
    "    for match in matches:\n",
    "        print ('Found', match) ## 'found all words'\n",
    "else:\n",
    "    print ('Did not find')"
   ]
  },
  {
   "cell_type": "markdown",
   "metadata": {},
   "source": [
    "Dot (.) inside square bracketsjust means a literal dot."
   ]
  },
  {
   "cell_type": "code",
   "execution_count": 19,
   "metadata": {},
   "outputs": [
    {
     "name": "stdout",
     "output_type": "stream",
     "text": [
      "Found T\n",
      "Found h\n",
      "Found e\n",
      "Found  \n",
      "Found d\n",
      "Found o\n",
      "Found g\n",
      "Found  \n",
      "Found i\n",
      "Found s\n",
      "Found  \n",
      "Found c\n",
      "Found u\n",
      "Found t\n",
      "Found e\n"
     ]
    }
   ],
   "source": [
    "input_string = 'The dog is cute.'\n",
    "matches = re.findall(r'[^.]', input_string)\n",
    "# If-statement after matches() tests if it succeeded\n",
    "if matches:\n",
    "    for match in matches:\n",
    "        print ('Found', match) ## 'found all words'\n",
    "else: \n",
    "    print ('Did not find')"
   ]
  },
  {
   "cell_type": "code",
   "execution_count": 20,
   "metadata": {},
   "outputs": [
    {
     "name": "stdout",
     "output_type": "stream",
     "text": [
      "Found Sam\n",
      "Found 100\n",
      "Found cookies\n",
      "Found are\n",
      "Found here\n",
      "Found Julie\n",
      "Found The\n",
      "Found cookie\n",
      "Found is\n",
      "Found very\n",
      "Found good.\n",
      "Found Cookie\n",
      "Found Coookie\n"
     ]
    }
   ],
   "source": [
    "input_string = 'Sam: 100 cookies are here! Julie: The cookie is very good. Cookie Coookie'\n",
    "matches = re.findall(r'[0-9a-zA-Z.]+', input_string)\n",
    "# If-statement after matches() tests if it succeeded\n",
    "if matches:\n",
    "    for match in matches:\n",
    "        print ('Found', match) ## 'found all words and periods'\n",
    "else:\n",
    "    print ('Did not find')"
   ]
  },
  {
   "cell_type": "markdown",
   "metadata": {},
   "source": [
    "## <a id=\"more pat\">Matching digits, words, and set boundaries</a>\n",
    "\n",
    "* \\d -- decimal digit [0-9] (some older regex utilities do not support \\d)\n",
    "* \\D -- Match a nondigit: [^0-9]\n",
    "* \\w -- (lowercase w) matches a \"word\" character: a letter or digit or underbar [a-zA-Z0-9_]. Note that although \"word\" is the mnemonic for this, it only matches a single word char, not a whole word. \n",
    "* \\W -- (upper case W) matches any non-word character."
   ]
  },
  {
   "cell_type": "raw",
   "metadata": {},
   "source": [
    "\\w -- (lowercase w) matches a \"word\" character: a letter or digit or underbar [a-zA-Z0-9_]. Note that although \"word\" is the mnemonic for this, it only matches a single word char, not a whole word. \n",
    "\\W -- (upper case W) matches any non-word character."
   ]
  },
  {
   "cell_type": "code",
   "execution_count": 21,
   "metadata": {},
   "outputs": [
    {
     "name": "stdout",
     "output_type": "stream",
     "text": [
      "Found Sam\n",
      "Found 100\n",
      "Found cookies\n",
      "Found are\n",
      "Found here\n",
      "Found Julie\n",
      "Found The\n",
      "Found cookie\n",
      "Found is\n",
      "Found very\n",
      "Found good\n",
      "Found Cookie\n",
      "Found Coookie\n"
     ]
    }
   ],
   "source": [
    "input_string = 'Sam: 100 cookies are here! Julie: The cookie is very good. Cookie Coookie'\n",
    "matches = re.findall(r'[\\d\\w]+', input_string)\n",
    "# If-statement after matches() tests if it succeeded\n",
    "if matches:\n",
    "    for match in matches:\n",
    "        print ('Found', match) ## 'found all words and digits'\n",
    "else:\n",
    "    print ('Did not find')"
   ]
  },
  {
   "cell_type": "markdown",
   "metadata": {},
   "source": [
    "\\t, \\n, \\r -- tab, newline, return"
   ]
  },
  {
   "cell_type": "raw",
   "metadata": {},
   "source": [
    "\\s -- (lowercase s) matches a single whitespace character -- space, newline, return, tab, form [ \\n\\r\\t\\f]\n",
    "\\S -- (upper case S) matches any non-whitespace character."
   ]
  },
  {
   "cell_type": "code",
   "execution_count": 22,
   "metadata": {},
   "outputs": [
    {
     "name": "stdout",
     "output_type": "stream",
     "text": [
      "Found Cookies are\n",
      "Found The cookie\n",
      "Found is very\n",
      "Found Cookie Coookie\n"
     ]
    }
   ],
   "source": [
    "input_string = 'Sam: Cookies are here! Julie: The cookie is very good!! Cookie Coookie'\n",
    "matches = re.findall(r'\\w+\\s\\w+', input_string)\n",
    "# If-statement after matches() tests if it succeeded\n",
    "if matches:\n",
    "    for match in matches:\n",
    "        print ('Found', match) ## 'found all words'\n",
    "else:\n",
    "    print ('Did not find')"
   ]
  },
  {
   "cell_type": "raw",
   "metadata": {},
   "source": [
    "\\b -- boundary between word and non-word\n",
    "\\B -- nonword boundary"
   ]
  },
  {
   "cell_type": "code",
   "execution_count": 23,
   "metadata": {},
   "outputs": [
    {
     "name": "stdout",
     "output_type": "stream",
     "text": [
      "Found The\n",
      "Found the\n"
     ]
    }
   ],
   "source": [
    "input_string = 'The other dog is happy.'\n",
    "matches = re.findall(r'[tT]he', input_string)\n",
    "# If-statement after matches() tests if it succeeded\n",
    "if matches:\n",
    "    for match in matches:\n",
    "        print ('Found', match) ## 'found all words'\n",
    "else:\n",
    "    print ('Did not find')"
   ]
  },
  {
   "cell_type": "code",
   "execution_count": 24,
   "metadata": {},
   "outputs": [
    {
     "name": "stdout",
     "output_type": "stream",
     "text": [
      "Found The\n"
     ]
    }
   ],
   "source": [
    "input_string = 'The other dog is happy.'\n",
    "matches = re.findall(r'\\b[tT]he\\b', input_string)\n",
    "# If-statement after matches() tests if it succeeded\n",
    "if matches:\n",
    "    for match in matches:\n",
    "        print ('Found', match) ## 'found The\"'\n",
    "else:\n",
    "    print ('Did not find')"
   ]
  },
  {
   "cell_type": "code",
   "execution_count": 25,
   "metadata": {},
   "outputs": [
    {
     "name": "stdout",
     "output_type": "stream",
     "text": [
      "The othe\n"
     ]
    }
   ],
   "source": [
    "pattern = re.compile(r'\\b[tT]he\\b')\n",
    "for m in pattern.finditer(input_string):\n",
    "    start_index = int(m.start()) ## 'found The\"'\n",
    "    print(input_string[start_index:start_index+8])"
   ]
  },
  {
   "cell_type": "code",
   "execution_count": 26,
   "metadata": {},
   "outputs": [
    {
     "name": "stdout",
     "output_type": "stream",
     "text": [
      "Found the\n"
     ]
    }
   ],
   "source": [
    "matches = re.findall(r'\\B[tT]he\\B', input_string)\n",
    "# If-statement after matches() tests if it succeeded\n",
    "if matches:\n",
    "    for match in matches:\n",
    "        print ('Found', match) ## 'found the in \"other\"'\n",
    "else:\n",
    "    print ('Did not find')"
   ]
  },
  {
   "cell_type": "code",
   "execution_count": 27,
   "metadata": {},
   "outputs": [
    {
     "name": "stdout",
     "output_type": "stream",
     "text": [
      "ther dog\n"
     ]
    }
   ],
   "source": [
    "pattern = re.compile(r'\\B[tT]he\\B')\n",
    "for m in pattern.finditer(input_string):\n",
    "    start_index = int(m.start())\n",
    "    print(input_string[start_index:start_index+8])"
   ]
  },
  {
   "cell_type": "markdown",
   "metadata": {},
   "source": [
    "The meta-characters which do not match themselves because they have special meanings are: . ^ $ * + ? {} [ ] \\ | ( )"
   ]
  },
  {
   "cell_type": "raw",
   "metadata": {},
   "source": [
    "^ (Caret) -- match the start the string \n",
    "$  -- match the end of the string"
   ]
  },
  {
   "cell_type": "code",
   "execution_count": 28,
   "metadata": {},
   "outputs": [
    {
     "name": "stdout",
     "output_type": "stream",
     "text": [
      "Found Cookies\n"
     ]
    }
   ],
   "source": [
    "input_string = 'Cookies are here! Cookie is here!'\n",
    "matches = re.findall(r'^Cookies?', input_string)\n",
    "# If-statement after matches() tests if it succeeded\n",
    "if matches:\n",
    "    for match in matches:\n",
    "        print ('Found', match) ## 'found Cookies'\n",
    "else:\n",
    "    print ('Did not find')"
   ]
  },
  {
   "cell_type": "code",
   "execution_count": 29,
   "metadata": {},
   "outputs": [
    {
     "name": "stdout",
     "output_type": "stream",
     "text": [
      "Found Cookie\n"
     ]
    }
   ],
   "source": [
    "input_string = 'Cookies are here! Cookie'\n",
    "matches = re.findall(r'Cookies?$', input_string)\n",
    "# If-statement after matches() tests if it succeeded\n",
    "if matches:\n",
    "    for match in matches:\n",
    "        print ('Found', match) ## 'found Cookie'\n",
    "else:\n",
    "    print ('Did not find')"
   ]
  },
  {
   "cell_type": "code",
   "execution_count": 30,
   "metadata": {},
   "outputs": [
    {
     "name": "stdout",
     "output_type": "stream",
     "text": [
      "Found The dog.\n"
     ]
    }
   ],
   "source": [
    "input_string = 'The dog.'\n",
    "matches = re.findall(r'^The dog\\.$', input_string)\n",
    "# If-statement after matches() tests if it succeeded\n",
    "if matches:\n",
    "    for match in matches:\n",
    "        print ('Found', match) ## 'found all words'\n",
    "else:\n",
    "    print ('Did not find')"
   ]
  },
  {
   "cell_type": "raw",
   "metadata": {},
   "source": [
    "\\ -- inhibit the \"specialness\" of a character. So, for example, use \\. to match a period or \\\\ to match a slash. If you are unsure if a character has special meaning, such as '\\t', you can put a slash in front of it, \\\\t, to make sure it is treated just as a character."
   ]
  },
  {
   "cell_type": "code",
   "execution_count": 31,
   "metadata": {},
   "outputs": [
    {
     "name": "stdout",
     "output_type": "stream",
     "text": [
      "Found \\t\n"
     ]
    }
   ],
   "source": [
    "input_string = r'Cookies are here! Cookie \\t' # notice r'' is used in here\n",
    "match = re.search(r'\\\\t', input_string)\n",
    "# If-statement after matches() tests if it succeeded\n",
    "if match:\n",
    "    print ('Found', match.group())  ## 'found \\t'\n",
    "else:\n",
    "    print ('Did not find')"
   ]
  },
  {
   "cell_type": "raw",
   "metadata": {},
   "source": [
    "For the emails problem, the square brackets are an easy way to add '.' and '-' to the set of chars which can appear around the @ with the pattern r'[\\w.-]+@[\\w.-]+' to get the whole email address:"
   ]
  },
  {
   "cell_type": "code",
   "execution_count": 32,
   "metadata": {},
   "outputs": [
    {
     "name": "stdout",
     "output_type": "stream",
     "text": [
      "Found xiaofengzhu2013@u.northwestern.edu\n"
     ]
    }
   ],
   "source": [
    "input_string = 'My email is xiaofengzhu2013@u.northwestern.edu'\n",
    "match = re.search(r'[\\w.-]+@[\\w.-]+', input_string)\n",
    "# If-statement after search() tests if it succeeded\n",
    "if match:\n",
    "    print ('Found', match.group()) ## 'found xiaofengzhu2013@u.northwestern.edu'\n",
    "else:\n",
    "    print ('Did not find')"
   ]
  },
  {
   "cell_type": "code",
   "execution_count": 33,
   "metadata": {},
   "outputs": [
    {
     "name": "stdout",
     "output_type": "stream",
     "text": [
      "Found xiaofengzhu2013@u.northwestern.edu.\n",
      "Found xyxyxy@u.northwestern.edu\n"
     ]
    }
   ],
   "source": [
    "input_string = 'My email is xiaofengzhu2013@u.northwestern.edu. His email is xyxyxy@u.northwestern.edu'\n",
    "matches = re.findall(r'(((xiaofengzhu2013)|(xy){3})@[\\w.-]+)', input_string)\n",
    "# If-statement after search() tests if it succeeded\n",
    "if matches:\n",
    "    for match in matches:\n",
    "        print ('Found', match[0]) ## 'found both emails'\n",
    "else:\n",
    "    print ('Did not find')"
   ]
  },
  {
   "cell_type": "code",
   "execution_count": 34,
   "metadata": {},
   "outputs": [
    {
     "name": "stdout",
     "output_type": "stream",
     "text": [
      "Found 10/2/2018\n"
     ]
    }
   ],
   "source": [
    "input_string = 'The 1st lab was scheduled on 10/2/2018.'\n",
    "match = re.search(r'\\d+/\\d+/\\d+', input_string)\n",
    "# If-statement after search() tests if it succeeded\n",
    "if match:\n",
    "    print ('Found', match.group()) ## 'found 10/2/2018'\n",
    "else:\n",
    "    print ('Did not find')"
   ]
  },
  {
   "cell_type": "raw",
   "metadata": {},
   "source": [
    "Wait ~ this regular expression also matches 10/2/201"
   ]
  },
  {
   "cell_type": "code",
   "execution_count": 35,
   "metadata": {},
   "outputs": [
    {
     "name": "stdout",
     "output_type": "stream",
     "text": [
      "Found 10/2/2018\n"
     ]
    }
   ],
   "source": [
    "input_string = 'The 1st lab was scheduled on 10/2/2018.'\n",
    "match = re.search(r'\\d+/\\d+/[1-9]\\d{3}', input_string)\n",
    "# If-statement after search() tests if it succeeded\n",
    "if match:\n",
    "    print ('Found', match.group()) ## 'found 10/2/2018'\n",
    "else:\n",
    "    print ('Did not find')"
   ]
  },
  {
   "cell_type": "raw",
   "metadata": {},
   "source": [
    "How to avoid 0060/02/2018?"
   ]
  },
  {
   "cell_type": "raw",
   "metadata": {},
   "source": [
    "How to match Sept. 23rd, 2019?"
   ]
  },
  {
   "cell_type": "raw",
   "metadata": {},
   "source": [
    "Flags\n",
    "You can provide multiple modifiers using exclusive OR (|). \n",
    "The common flags are \n",
    "re.I -- case-insensitive \n",
    "re.M -- Makes $ match the end of a line (not just the end of the string) and makes ^ match the start of any line (not just the start of the string)."
   ]
  },
  {
   "cell_type": "code",
   "execution_count": 3,
   "metadata": {},
   "outputs": [
    {
     "name": "stdout",
     "output_type": "stream",
     "text": [
      "Found Cookie\n",
      "Found COOKIe\n"
     ]
    }
   ],
   "source": [
    "input_string = 'Cookie COOKIe'\n",
    "matches = re.findall(r'cookie', input_string, re.I)\n",
    "# If-statement after matches() tests if it succeeded\n",
    "if matches:\n",
    "    for match in matches:\n",
    "        print ('Found', match) ## 'found Cookie and COOKIe'\n",
    "else:\n",
    "    print ('Did not find')"
   ]
  },
  {
   "cell_type": "markdown",
   "metadata": {},
   "source": [
    "## <a id=\"ref\">References</a>\n",
    "\n",
    "* [More python regex](https://www.tutorialspoint.com/python/python_reg_expressions.htm)\n",
    "* [Test your regex101 pattern](https://regex101.com/)"
   ]
  }
 ],
 "metadata": {
  "kernelspec": {
   "display_name": "Python [default]",
   "language": "python",
   "name": "python3"
  },
  "language_info": {
   "codemirror_mode": {
    "name": "ipython",
    "version": 3
   },
   "file_extension": ".py",
   "mimetype": "text/x-python",
   "name": "python",
   "nbconvert_exporter": "python",
   "pygments_lexer": "ipython3",
   "version": "3.6.4"
  }
 },
 "nbformat": 4,
 "nbformat_minor": 2
}
