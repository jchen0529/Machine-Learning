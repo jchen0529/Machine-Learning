{
 "cells": [
  {
   "cell_type": "markdown",
   "metadata": {},
   "source": [
    "## Discover news topics through Latent Dirichlet Allocation (LDA)\n",
    "\n",
    "**Outline**\n",
    "\n",
    "* [Introduction](#intro)\n",
    "* [LDA Model on BOW](#exp)\n",
    "* [LDA Model on Corpus with tfIdf](#use case)\n",
    "* [References](#ref)"
   ]
  },
  {
   "cell_type": "code",
   "execution_count": 62,
   "metadata": {
    "collapsed": true
   },
   "outputs": [],
   "source": [
    "import os, glob\n",
    "import pandas as pd\n",
    "import numpy as np\n",
    "import re, string\n",
    "# construct the dictionary without loading all texts into memory\n",
    "from six import iteritems\n",
    "\n",
    "from nltk.tokenize import word_tokenize\n",
    "from nltk.corpus import stopwords\n",
    "from nltk.stem import WordNetLemmatizer, SnowballStemmer\n",
    "from nltk.stem.porter import PorterStemmer #leaving only the word stem\n",
    "from gensim import corpora\n",
    "from gensim.models.ldamodel import LdaModel\n",
    "from gensim import corpora, models\n",
    "import pickle\n",
    "from gensim.test.utils import datapath\n",
    "from gensim.utils import simple_preprocess\n",
    "from gensim.parsing.preprocessing import STOPWORDS"
   ]
  },
  {
   "cell_type": "markdown",
   "metadata": {},
   "source": [
    "## <a id=\"data\">Dataset</a>\n",
    "abcnews-date-text.csv from [Kaggle](https://www.kaggle.com/therohk/million-headlines/version/7#abcnews-date-text.csv)"
   ]
  },
  {
   "cell_type": "markdown",
   "metadata": {},
   "source": [
    "## <a id=\"exp\">LDA Modeling</a>"
   ]
  },
  {
   "cell_type": "code",
   "execution_count": 2,
   "metadata": {
    "collapsed": true
   },
   "outputs": [],
   "source": [
    "data = pd.read_csv('data/abcnews-date-text.csv', error_bad_lines=False);\n",
    "data_text = data[['headline_text']]\n",
    "data_text['index'] = data_text.index\n",
    "documents = data_text"
   ]
  },
  {
   "cell_type": "code",
   "execution_count": 6,
   "metadata": {},
   "outputs": [
    {
     "name": "stdout",
     "output_type": "stream",
     "text": [
      "1103663\n",
      "                                       headline_text  index\n",
      "0  aba decides against community broadcasting lic...      0\n",
      "1     act fire witnesses must be aware of defamation      1\n",
      "2     a g calls for infrastructure protection summit      2\n"
     ]
    }
   ],
   "source": [
    "print(len(documents))\n",
    "print(documents[:3])"
   ]
  },
  {
   "cell_type": "markdown",
   "metadata": {},
   "source": [
    "**Step 1. Preprocessing**\n",
    "* Tokenization\n",
    "* Words are lemmatized — words in third person are changed to first person and verbs in past and future tenses are changed into present.\n",
    "* Words are stemmed — words are reduced to their root form.\n",
    "* Stop words removal \n",
    "* Words that have fewer than 3 characters are removed."
   ]
  },
  {
   "cell_type": "code",
   "execution_count": 32,
   "metadata": {
    "collapsed": true
   },
   "outputs": [],
   "source": [
    "def lemmatize_stemming(text):\n",
    "    # Create a WordNetLemmatizer object for lemmatization as needed\n",
    "    stemmer = PorterStemmer()\n",
    "    return stemmer.stem(WordNetLemmatizer().lemmatize(text, pos='v'))\n",
    "\n",
    "def preprocess(text):\n",
    "    result = []\n",
    "    for token in simple_preprocess(text):\n",
    "        if token not in STOPWORDS and len(token) > 3:\n",
    "            result.append(lemmatize_stemming(token))\n",
    "    return result"
   ]
  },
  {
   "cell_type": "code",
   "execution_count": 33,
   "metadata": {},
   "outputs": [
    {
     "name": "stdout",
     "output_type": "stream",
     "text": [
      "['rain', 'helps', 'dampen', 'bushfires']\n",
      "\n",
      "\n",
      " tokenized and lemmatized document: \n",
      "['rain', 'help', 'dampen', 'bushfir']\n"
     ]
    }
   ],
   "source": [
    "doc_sample = documents[documents['index'] == 4310].values[0][0]\n",
    "doc_sample\n",
    "\n",
    "words = []\n",
    "for word in doc_sample.split(' '):\n",
    "    words.append(word)\n",
    "print(words)\n",
    "print('\\n\\n tokenized and lemmatized document: ')\n",
    "print(preprocess(doc_sample))"
   ]
  },
  {
   "cell_type": "code",
   "execution_count": 34,
   "metadata": {},
   "outputs": [
    {
     "data": {
      "text/html": [
       "<div>\n",
       "<style scoped>\n",
       "    .dataframe tbody tr th:only-of-type {\n",
       "        vertical-align: middle;\n",
       "    }\n",
       "\n",
       "    .dataframe tbody tr th {\n",
       "        vertical-align: top;\n",
       "    }\n",
       "\n",
       "    .dataframe thead th {\n",
       "        text-align: right;\n",
       "    }\n",
       "</style>\n",
       "<table border=\"1\" class=\"dataframe\">\n",
       "  <thead>\n",
       "    <tr style=\"text-align: right;\">\n",
       "      <th></th>\n",
       "      <th>headline_text</th>\n",
       "      <th>index</th>\n",
       "    </tr>\n",
       "  </thead>\n",
       "  <tbody>\n",
       "    <tr>\n",
       "      <th>0</th>\n",
       "      <td>aba decides against community broadcasting lic...</td>\n",
       "      <td>0</td>\n",
       "    </tr>\n",
       "    <tr>\n",
       "      <th>1</th>\n",
       "      <td>act fire witnesses must be aware of defamation</td>\n",
       "      <td>1</td>\n",
       "    </tr>\n",
       "  </tbody>\n",
       "</table>\n",
       "</div>"
      ],
      "text/plain": [
       "                                       headline_text  index\n",
       "0  aba decides against community broadcasting lic...      0\n",
       "1     act fire witnesses must be aware of defamation      1"
      ]
     },
     "execution_count": 34,
     "metadata": {},
     "output_type": "execute_result"
    }
   ],
   "source": [
    "documents.head(2)"
   ]
  },
  {
   "cell_type": "code",
   "execution_count": 35,
   "metadata": {},
   "outputs": [
    {
     "data": {
      "text/plain": [
       "0               [decid, commun, broadcast, licenc]\n",
       "1                               [wit, awar, defam]\n",
       "2           [call, infrastructur, protect, summit]\n",
       "3                      [staff, aust, strike, rise]\n",
       "4             [strike, affect, australian, travel]\n",
       "5               [ambiti, olsson, win, tripl, jump]\n",
       "6           [antic, delight, record, break, barca]\n",
       "7    [aussi, qualifi, stosur, wast, memphi, match]\n",
       "8            [aust, address, secur, council, iraq]\n",
       "9                         [australia, lock, timet]\n",
       "Name: headline_text, dtype: object"
      ]
     },
     "execution_count": 35,
     "metadata": {},
     "output_type": "execute_result"
    }
   ],
   "source": [
    "# apply to the entire docs list\n",
    "corpus_clean = documents['headline_text'].map(preprocess)\n",
    "corpus_clean[:10]"
   ]
  },
  {
   "cell_type": "markdown",
   "metadata": {},
   "source": [
    "**Step 2: Create vocabulary dictionary**"
   ]
  },
  {
   "cell_type": "code",
   "execution_count": 43,
   "metadata": {},
   "outputs": [
    {
     "name": "stdout",
     "output_type": "stream",
     "text": [
      "0 broadcast\n",
      "1 commun\n",
      "2 decid\n",
      "3 licenc\n",
      "4 awar\n",
      "5 defam\n"
     ]
    }
   ],
   "source": [
    "# find a unique id for each unique term {term : id}\n",
    "dictionary = corpora.Dictionary(corpus_clean)\n",
    "# term : id\n",
    "count = 0\n",
    "for k, v in dictionary.iteritems():\n",
    "    print(k, v)\n",
    "    count += 1\n",
    "    if count > 5:\n",
    "        break"
   ]
  },
  {
   "cell_type": "markdown",
   "metadata": {},
   "source": [
    "**Step 2.1: Filter extremes**\n",
    "\n",
    "Filter out tokens that appear in\n",
    "\n",
    "* less than 15 documents (absolute number) or\n",
    "* more than 0.5 documents (fraction of total corpus size, not absolute number).\n",
    "* after the above two steps, keep only the first 100000 most frequent tokens."
   ]
  },
  {
   "cell_type": "code",
   "execution_count": 46,
   "metadata": {},
   "outputs": [],
   "source": [
    "dictionary.filter_extremes(no_below=15, no_above=0.7, keep_n=100000)"
   ]
  },
  {
   "cell_type": "markdown",
   "metadata": {},
   "source": [
    "**Step 3: Apply doc2bow for each doc**"
   ]
  },
  {
   "cell_type": "code",
   "execution_count": 47,
   "metadata": {},
   "outputs": [
    {
     "data": {
      "text/plain": [
       "[(76, 1), (112, 1), (483, 1), (4021, 1)]"
      ]
     },
     "execution_count": 47,
     "metadata": {},
     "output_type": "execute_result"
    }
   ],
   "source": [
    "bow_corpus = [dictionary.doc2bow(doc) for doc in processed_docs]\n",
    "bow_corpus[4310]"
   ]
  },
  {
   "cell_type": "code",
   "execution_count": 51,
   "metadata": {},
   "outputs": [
    {
     "name": "stdout",
     "output_type": "stream",
     "text": [
      "Word 76 (\"bushfir\") appears 1 time.\n",
      "Word 112 (\"help\") appears 1 time.\n",
      "Word 483 (\"rain\") appears 1 time.\n",
      "Word 4021 (\"dampen\") appears 1 time.\n"
     ]
    }
   ],
   "source": [
    "bow_doc_4310 = bow_corpus[4310]\n",
    "\n",
    "for i in range(len(bow_doc_4310)):\n",
    "    print(\"Word {} (\\\"{}\\\") appears {} time.\".format(bow_doc_4310[i][0], \n",
    "                                               dictionary[bow_doc_4310[i][0]], \n",
    "bow_doc_4310[i][1]))"
   ]
  },
  {
   "cell_type": "markdown",
   "metadata": {},
   "source": [
    "**Step 4. Run LDA model using bow**"
   ]
  },
  {
   "cell_type": "code",
   "execution_count": 61,
   "metadata": {},
   "outputs": [],
   "source": [
    "# LDA model needs many iterations/passes and a large corpus to work well\n",
    "# must define the number of topics you want to extract from the corpus\n",
    "ldamodel = LdaModel(bow_corpus, num_topics=10, id2word = dictionary, passes=5, iterations=200)"
   ]
  },
  {
   "cell_type": "code",
   "execution_count": 67,
   "metadata": {},
   "outputs": [
    {
     "name": "stdout",
     "output_type": "stream",
     "text": [
      "(0, '0.020*\"canberra\" + 0.019*\"home\" + 0.018*\"north\" + 0.012*\"commun\" + 0.012*\"servic\" + 0.012*\"korea\"')\n",
      "(1, '0.019*\"turnbul\" + 0.018*\"power\" + 0.017*\"miss\" + 0.017*\"tasmania\" + 0.016*\"rise\" + 0.014*\"break\"')\n",
      "(2, '0.049*\"australian\" + 0.021*\"chang\" + 0.021*\"women\" + 0.013*\"victoria\" + 0.011*\"john\" + 0.011*\"council\"')\n",
      "(3, '0.034*\"sydney\" + 0.033*\"govern\" + 0.030*\"queensland\" + 0.019*\"brisban\" + 0.017*\"say\" + 0.015*\"peopl\"')\n",
      "(4, '0.052*\"trump\" + 0.024*\"kill\" + 0.024*\"south\" + 0.017*\"attack\" + 0.017*\"tasmanian\" + 0.014*\"leagu\"')\n",
      "(5, '0.037*\"year\" + 0.027*\"polic\" + 0.023*\"hous\" + 0.020*\"crash\" + 0.019*\"coast\" + 0.019*\"die\"')\n",
      "(6, '0.028*\"charg\" + 0.028*\"court\" + 0.022*\"murder\" + 0.022*\"adelaid\" + 0.019*\"perth\" + 0.018*\"face\"')\n",
      "(7, '0.058*\"australia\" + 0.019*\"test\" + 0.015*\"accus\" + 0.015*\"alleg\" + 0.012*\"interview\" + 0.012*\"citi\"')\n",
      "(8, '0.023*\"elect\" + 0.021*\"school\" + 0.017*\"state\" + 0.015*\"indigen\" + 0.014*\"high\" + 0.012*\"polit\"')\n",
      "(9, '0.024*\"world\" + 0.021*\"nation\" + 0.020*\"donald\" + 0.016*\"final\" + 0.013*\"time\" + 0.013*\"open\"')\n"
     ]
    }
   ],
   "source": [
    "for i in ldamodel.print_topics(num_words = 6):\n",
    "    print(i)"
   ]
  },
  {
   "cell_type": "markdown",
   "metadata": {},
   "source": [
    "**Step 5. Evaluate model on sample document and unseen doc**"
   ]
  },
  {
   "cell_type": "code",
   "execution_count": 72,
   "metadata": {},
   "outputs": [
    {
     "name": "stdout",
     "output_type": "stream",
     "text": [
      "['rain', 'help', 'dampen', 'bushfir']\n",
      "\n",
      "Score: 0.41999632120132446\t \n",
      "Topic: 0.019*\"turnbul\" + 0.018*\"power\" + 0.017*\"miss\" + 0.017*\"tasmania\" + 0.016*\"rise\" + 0.014*\"break\" + 0.014*\"water\" + 0.012*\"fall\" + 0.012*\"forc\" + 0.012*\"busi\"\n",
      "\n",
      "Score: 0.22000007331371307\t \n",
      "Topic: 0.020*\"canberra\" + 0.019*\"home\" + 0.018*\"north\" + 0.012*\"commun\" + 0.012*\"servic\" + 0.012*\"korea\" + 0.011*\"protest\" + 0.011*\"street\" + 0.011*\"train\" + 0.011*\"royal\"\n",
      "\n",
      "Score: 0.21999971568584442\t \n",
      "Topic: 0.037*\"year\" + 0.027*\"polic\" + 0.023*\"hous\" + 0.020*\"crash\" + 0.019*\"coast\" + 0.019*\"die\" + 0.018*\"live\" + 0.017*\"market\" + 0.017*\"shoot\" + 0.013*\"investig\"\n",
      "\n",
      "Score: 0.02000216767191887\t \n",
      "Topic: 0.023*\"elect\" + 0.021*\"school\" + 0.017*\"state\" + 0.015*\"indigen\" + 0.014*\"high\" + 0.012*\"polit\" + 0.012*\"need\" + 0.011*\"concern\" + 0.010*\"want\" + 0.010*\"liber\"\n",
      "\n",
      "Score: 0.020001718774437904\t \n",
      "Topic: 0.034*\"sydney\" + 0.033*\"govern\" + 0.030*\"queensland\" + 0.019*\"brisban\" + 0.017*\"say\" + 0.015*\"peopl\" + 0.015*\"labor\" + 0.015*\"drug\" + 0.014*\"life\" + 0.014*\"fight\"\n",
      "\n",
      "Score: 0.019999999552965164\t \n",
      "Topic: 0.049*\"australian\" + 0.021*\"chang\" + 0.021*\"women\" + 0.013*\"victoria\" + 0.011*\"john\" + 0.011*\"council\" + 0.010*\"push\" + 0.010*\"centr\" + 0.010*\"rural\" + 0.010*\"green\"\n",
      "\n",
      "Score: 0.019999999552965164\t \n",
      "Topic: 0.052*\"trump\" + 0.024*\"kill\" + 0.024*\"south\" + 0.017*\"attack\" + 0.017*\"tasmanian\" + 0.014*\"leagu\" + 0.013*\"dead\" + 0.013*\"price\" + 0.012*\"china\" + 0.011*\"leader\"\n",
      "\n",
      "Score: 0.019999999552965164\t \n",
      "Topic: 0.028*\"charg\" + 0.028*\"court\" + 0.022*\"murder\" + 0.022*\"adelaid\" + 0.019*\"perth\" + 0.018*\"face\" + 0.017*\"polic\" + 0.014*\"death\" + 0.014*\"health\" + 0.014*\"melbourn\"\n",
      "\n",
      "Score: 0.019999999552965164\t \n",
      "Topic: 0.058*\"australia\" + 0.019*\"test\" + 0.015*\"accus\" + 0.015*\"alleg\" + 0.012*\"interview\" + 0.012*\"citi\" + 0.011*\"feder\" + 0.011*\"return\" + 0.010*\"week\" + 0.010*\"game\"\n",
      "\n",
      "Score: 0.019999999552965164\t \n",
      "Topic: 0.024*\"world\" + 0.021*\"nation\" + 0.020*\"donald\" + 0.016*\"final\" + 0.013*\"time\" + 0.013*\"open\" + 0.013*\"say\" + 0.012*\"deal\" + 0.011*\"share\" + 0.011*\"countri\"\n"
     ]
    }
   ],
   "source": [
    "#evaluate on sample doc\n",
    "sample = corpus_clean[4310]\n",
    "print(sample)\n",
    "for index, score in sorted(ldamodel[bow_corpus[4310]], key=lambda tup: -1*tup[1]):\n",
    "    print(\"\\nScore: {}\\t \\nTopic: {}\".format(score, ldamodel.print_topic(index, 10)))"
   ]
  },
  {
   "cell_type": "code",
   "execution_count": 75,
   "metadata": {},
   "outputs": [
    {
     "name": "stdout",
     "output_type": "stream",
     "text": [
      "Score: 0.1833333820104599\t Topic: 0.058*\"australia\" + 0.019*\"test\" + 0.015*\"accus\" + 0.015*\"alleg\" + 0.012*\"interview\"\n",
      "Score: 0.1833333522081375\t Topic: 0.019*\"turnbul\" + 0.018*\"power\" + 0.017*\"miss\" + 0.017*\"tasmania\" + 0.016*\"rise\"\n",
      "Score: 0.1833333522081375\t Topic: 0.023*\"elect\" + 0.021*\"school\" + 0.017*\"state\" + 0.015*\"indigen\" + 0.014*\"high\"\n",
      "Score: 0.1833333522081375\t Topic: 0.024*\"world\" + 0.021*\"nation\" + 0.020*\"donald\" + 0.016*\"final\" + 0.013*\"time\"\n",
      "Score: 0.18333323299884796\t Topic: 0.052*\"trump\" + 0.024*\"kill\" + 0.024*\"south\" + 0.017*\"attack\" + 0.017*\"tasmanian\"\n",
      "Score: 0.01666666753590107\t Topic: 0.020*\"canberra\" + 0.019*\"home\" + 0.018*\"north\" + 0.012*\"commun\" + 0.012*\"servic\"\n",
      "Score: 0.01666666753590107\t Topic: 0.049*\"australian\" + 0.021*\"chang\" + 0.021*\"women\" + 0.013*\"victoria\" + 0.011*\"john\"\n",
      "Score: 0.01666666753590107\t Topic: 0.034*\"sydney\" + 0.033*\"govern\" + 0.030*\"queensland\" + 0.019*\"brisban\" + 0.017*\"say\"\n",
      "Score: 0.01666666753590107\t Topic: 0.037*\"year\" + 0.027*\"polic\" + 0.023*\"hous\" + 0.020*\"crash\" + 0.019*\"coast\"\n",
      "Score: 0.01666666753590107\t Topic: 0.028*\"charg\" + 0.028*\"court\" + 0.022*\"murder\" + 0.022*\"adelaid\" + 0.019*\"perth\"\n"
     ]
    }
   ],
   "source": [
    "unseen_document = 'How a Pentagon deal became an identity crisis for Google'\n",
    "bow_vector = dictionary.doc2bow(preprocess(unseen_document))\n",
    "for index, score in sorted(ldamodel[bow_vector], key=lambda tup: -1*tup[1]):\n",
    "    print(\"Score: {}\\t Topic: {}\".format(score, ldamodel.print_topic(index, 5)))"
   ]
  },
  {
   "cell_type": "markdown",
   "metadata": {},
   "source": [
    "## <a id=\"use case\">LDA Model on Corpus with tfIdf</a>"
   ]
  },
  {
   "cell_type": "code",
   "execution_count": 76,
   "metadata": {},
   "outputs": [
    {
     "name": "stdout",
     "output_type": "stream",
     "text": [
      "[(0, 0.5903603121911333),\n",
      " (1, 0.3852450692300274),\n",
      " (2, 0.4974556050119205),\n",
      " (3, 0.505567858418396)]\n"
     ]
    }
   ],
   "source": [
    "#Apply TF-IDF on bow, then apply transformation to the entire corpus\n",
    "#preview TF-IDF scores for our first document.\n",
    "tfidf = models.TfidfModel(bow_corpus)\n",
    "corpus_tfidf = tfidf[bow_corpus]\n",
    "\n",
    "from pprint import pprint\n",
    "for doc in corpus_tfidf:\n",
    "    pprint(doc)\n",
    "    break"
   ]
  },
  {
   "cell_type": "code",
   "execution_count": 77,
   "metadata": {
    "collapsed": true
   },
   "outputs": [],
   "source": [
    "ldamodel2 = LdaModel(corpus_tfidf, num_topics=10, id2word = dictionary, passes=5, iterations=200)"
   ]
  },
  {
   "cell_type": "code",
   "execution_count": 79,
   "metadata": {},
   "outputs": [
    {
     "name": "stdout",
     "output_type": "stream",
     "text": [
      "['rain', 'help', 'dampen', 'bushfir']\n",
      "\n",
      "Score: 0.5826798677444458\t \n",
      "Topic: 0.014*\"peopl\" + 0.012*\"countri\" + 0.011*\"royal\" + 0.010*\"citi\" + 0.009*\"refuge\"\n",
      "\n",
      "Score: 0.2572932839393616\t \n",
      "Topic: 0.023*\"queensland\" + 0.016*\"north\" + 0.011*\"life\" + 0.011*\"australia\" + 0.011*\"korea\"\n",
      "\n",
      "Score: 0.020009439438581467\t \n",
      "Topic: 0.019*\"donald\" + 0.016*\"murder\" + 0.014*\"polic\" + 0.013*\"canberra\" + 0.013*\"tasmanian\"\n",
      "\n",
      "Score: 0.02000546082854271\t \n",
      "Topic: 0.016*\"elect\" + 0.015*\"tasmania\" + 0.011*\"rural\" + 0.010*\"guilti\" + 0.010*\"million\"\n",
      "\n",
      "Score: 0.020005056634545326\t \n",
      "Topic: 0.041*\"trump\" + 0.011*\"rise\" + 0.010*\"leagu\" + 0.009*\"coast\" + 0.009*\"price\"\n",
      "\n",
      "Score: 0.020004302263259888\t \n",
      "Topic: 0.012*\"week\" + 0.010*\"australian\" + 0.008*\"sport\" + 0.007*\"region\" + 0.006*\"star\"\n",
      "\n",
      "Score: 0.020001139491796494\t \n",
      "Topic: 0.011*\"polit\" + 0.010*\"senat\" + 0.010*\"hour\" + 0.009*\"young\" + 0.008*\"show\"\n",
      "\n",
      "Score: 0.02000080794095993\t \n",
      "Topic: 0.015*\"live\" + 0.014*\"crash\" + 0.012*\"drum\" + 0.011*\"south\" + 0.010*\"malcolm\"\n",
      "\n",
      "Score: 0.020000692456960678\t \n",
      "Topic: 0.021*\"govern\" + 0.019*\"perth\" + 0.018*\"turnbul\" + 0.010*\"market\" + 0.010*\"street\"\n",
      "\n",
      "Score: 0.019999999552965164\t \n",
      "Topic: 0.012*\"woman\" + 0.011*\"children\" + 0.011*\"victoria\" + 0.010*\"interview\" + 0.009*\"hobart\"\n"
     ]
    }
   ],
   "source": [
    "#evaluate on sample doc\n",
    "sample = corpus_clean[4310]\n",
    "print(sample)\n",
    "for index, score in sorted(ldamodel2[bow_corpus[4310]], key=lambda tup: -1*tup[1]):\n",
    "    print(\"\\nScore: {}\\t \\nTopic: {}\".format(score, ldamodel2.print_topic(index, 5)))"
   ]
  },
  {
   "cell_type": "markdown",
   "metadata": {},
   "source": [
    "## <a id=\"ref\">References</a>\n",
    "* [Topic Modeling and Latent Dirichlet Allocation (LDA) in Python](https://towardsdatascience.com/topic-modeling-and-latent-dirichlet-allocation-in-python-9bf156893c24)"
   ]
  }
 ],
 "metadata": {
  "kernelspec": {
   "display_name": "Python [default]",
   "language": "python",
   "name": "python3"
  },
  "language_info": {
   "codemirror_mode": {
    "name": "ipython",
    "version": 3
   },
   "file_extension": ".py",
   "mimetype": "text/x-python",
   "name": "python",
   "nbconvert_exporter": "python",
   "pygments_lexer": "ipython3",
   "version": "3.6.4"
  }
 },
 "nbformat": 4,
 "nbformat_minor": 2
}
